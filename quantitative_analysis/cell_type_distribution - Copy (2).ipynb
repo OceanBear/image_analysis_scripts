{
 "cells": [
  {
   "cell_type": "markdown",
   "metadata": {},
   "source": [
    "# NucSegAI Result Analysis - Cell Type Quantification\n",
    "\n",
    "This notebook analyzes NucSegAI JSON output files to extract:\n",
    "- Cell counts by type\n",
    "- Cell type proportions\n",
    "- Type probability statistics\n",
    "\n",
    "This notebook provides:\n",
    "1. ✅ Single JSON file analysis\n",
    "2. ✅ Cell type counts and proportions\n",
    "3. ✅ Type probability statistics (min, median, mean, max, standard deviation)\n",
    "4. ✅ Visualizations (bar charts, pie charts)\n",
    "5. ✅ CSV export functionality\n",
    "6. ✅ Batch processing for all json files\n",
    "\n",
    "---"
   ]
  },
  {
   "cell_type": "markdown",
   "metadata": {},
   "source": [
    "## Step 1: Import Required Libraries"
   ]
  },
  {
   "cell_type": "code",
   "metadata": {
    "ExecuteTime": {
     "end_time": "2025-10-07T23:25:24.648806Z",
     "start_time": "2025-10-07T23:25:24.646471Z"
    }
   },
   "source": [
    "import json\n",
    "import pandas as pd\n",
    "import numpy as np\n",
    "import matplotlib.pyplot as plt\n",
    "import seaborn as sns\n",
    "from pathlib import Path\n",
    "from collections import Counter, defaultdict\n",
    "import warnings\n",
    "warnings.filterwarnings('ignore')\n",
    "\n",
    "# Set style for better visualizations\n",
    "sns.set_style(\"whitegrid\")\n",
    "plt.rcParams['figure.figsize'] = (12, 6)\n",
    "\n",
    "print(\"✅ Libraries imported successfully!\")"
   ],
   "outputs": [
    {
     "name": "stdout",
     "output_type": "stream",
     "text": [
      "✅ Libraries imported successfully!\n"
     ]
    }
   ],
   "execution_count": 1
  },
  {
   "cell_type": "markdown",
   "metadata": {},
   "source": [
    "## Step 2: Define Cell Type Dictionary\n",
    "\n",
    "This mapping translates numeric cell type IDs to human-readable names."
   ]
  },
  {
   "cell_type": "code",
   "metadata": {
    "ExecuteTime": {
     "end_time": "2025-10-07T23:25:26.886149Z",
     "start_time": "2025-10-07T23:25:26.883583Z"
    }
   },
   "source": [
    "# Cell type mapping\n",
    "CELL_TYPE_DICT = {\n",
    "    0: \"Undefined\",\n",
    "    1: \"Epithelium (PD-L1lo/Ki67lo)\",\n",
    "    2: \"Epithelium (PD-L1hi/Ki67hi)\",\n",
    "    3: \"Macrophage\",\n",
    "    4: \"Lymphocyte\",\n",
    "    5: \"Vascular\",\n",
    "    6: \"Fibroblast/Stroma\"\n",
    "}\n",
    "\n",
    "# Color mapping for visualization (converted from RGB to hex)\n",
    "CELL_TYPE_COLORS = {\n",
    "    0: \"#000000\",  # Black (RGB: 0, 0, 0) - Undefined\n",
    "    1: \"#387F39\",  # Dark Green (RGB: 56, 127, 57) - Epithelium low\n",
    "    2: \"#00FF00\",  # Bright Green (RGB: 0, 255, 0) - Epithelium high\n",
    "    3: \"#FC8D62\",  # Coral/Salmon (RGB: 252, 141, 98) - Macrophage\n",
    "    4: \"#FFD92F\",  # Yellow (RGB: 255, 217, 47) - Lymphocyte\n",
    "    5: \"#4535C1\",  # Blue/Purple (RGB: 69, 53, 193) - Vascular\n",
    "    6: \"#17BECF\"   # Cyan (RGB: 23, 190, 207) - Fibroblast/Stroma\n",
    "}\n",
    "\n",
    "print(\"Cell Type Mapping:\")\n",
    "for type_id, type_name in CELL_TYPE_DICT.items():\n",
    "    print(f\"  {type_id}: {type_name} -> {CELL_TYPE_COLORS[type_id]}\")"
   ],
   "outputs": [
    {
     "name": "stdout",
     "output_type": "stream",
     "text": [
      "Cell Type Mapping:\n",
      "  0: Undefined -> #000000\n",
      "  1: Epithelium (PD-L1lo/Ki67lo) -> #387F39\n",
      "  2: Epithelium (PD-L1hi/Ki67hi) -> #00FF00\n",
      "  3: Macrophage -> #FC8D62\n",
      "  4: Lymphocyte -> #FFD92F\n",
      "  5: Vascular -> #4535C1\n",
      "  6: Fibroblast/Stroma -> #17BECF\n"
     ]
    }
   ],
   "execution_count": 2
  },
  {
   "cell_type": "markdown",
   "metadata": {},
   "source": [
    "## Step 3: Define Function to Analyze Single JSON File\n",
    "\n",
    "This function reads a single JSON file and extracts all relevant statistics."
   ]
  },
  {
   "cell_type": "code",
   "metadata": {
    "ExecuteTime": {
     "end_time": "2025-10-07T23:25:30.447651Z",
     "start_time": "2025-10-07T23:25:30.443814Z"
    }
   },
   "source": [
    "def analyze_single_json(json_path):\n",
    "    \"\"\"\n",
    "    Analyze a single NucSegAI JSON output file.\n",
    "    \n",
    "    Parameters:\n",
    "    -----------\n",
    "    json_path : str or Path\n",
    "        Path to the JSON file\n",
    "    \n",
    "    Returns:\n",
    "    --------\n",
    "    dict : Dictionary containing analysis results\n",
    "    \"\"\"\n",
    "    # Read JSON file\n",
    "    with open(json_path, 'r') as f:\n",
    "        data = json.load(f)\n",
    "    \n",
    "    # Extract nucleus data\n",
    "    nuclei = data.get('nuc', {})\n",
    "    \n",
    "    if not nuclei:\n",
    "        return {\n",
    "            'filename': Path(json_path).name,\n",
    "            'total_cells': 0,\n",
    "            'cell_counts': {},\n",
    "            'cell_proportions': {},\n",
    "            'type_prob_stats': {}\n",
    "        }\n",
    "    \n",
    "    # Initialize storage\n",
    "    cell_types = []\n",
    "    type_probs = []\n",
    "    type_probs_by_type = defaultdict(list)\n",
    "    \n",
    "    # Extract data from each nucleus\n",
    "    for nucleus_id, nucleus_data in nuclei.items():\n",
    "        cell_type = nucleus_data.get('type',        0)\n",
    "        type_prob = nucleus_data.get('type_prob',   0)\n",
    "        \n",
    "        cell_types.append(cell_type)\n",
    "        type_probs.append(type_prob)\n",
    "        type_probs_by_type[cell_type].append(type_prob)\n",
    "    \n",
    "    # Count cells by type\n",
    "    cell_counts = Counter(cell_types)\n",
    "    total_cells = len(cell_types)\n",
    "    \n",
    "    # Calculate proportions\n",
    "    cell_proportions = {}\n",
    "    for cell_type, count in cell_counts.items():\n",
    "        cell_proportions[cell_type] = count / total_cells\n",
    "    \n",
    "    # Calculate type probability statistics (overall)\n",
    "    type_prob_stats_overall = {\n",
    "        'min':      np.min(type_probs) if type_probs else 0,\n",
    "        'median':   np.median(type_probs) if type_probs else 0,\n",
    "        'mean':     np.mean(type_probs) if type_probs else 0,\n",
    "        'max':      np.max(type_probs) if type_probs else 0,\n",
    "        'std':      np.std(type_probs) if type_probs else 0\n",
    "    }\n",
    "    \n",
    "    # Calculate type probability statistics by cell type\n",
    "    type_prob_stats_by_type = {}\n",
    "    for cell_type, probs in type_probs_by_type.items():\n",
    "        type_prob_stats_by_type[cell_type] = {\n",
    "            'min':      np.min(probs),\n",
    "            'median':   np.median(probs),\n",
    "            'mean':     np.mean(probs),\n",
    "            'max':      np.max(probs),\n",
    "            'std':      np.std(probs)\n",
    "        }\n",
    "    \n",
    "    return {\n",
    "        'filename': Path(json_path).name,\n",
    "        'total_cells': total_cells,\n",
    "        'cell_counts': dict(cell_counts),\n",
    "        'cell_proportions': cell_proportions,\n",
    "        'type_prob_stats_overall': type_prob_stats_overall,\n",
    "        'type_prob_stats_by_type': type_prob_stats_by_type\n",
    "    }\n",
    "\n",
    "print(\"✅ Function defined: analyze_single_json()\")"
   ],
   "outputs": [
    {
     "name": "stdout",
     "output_type": "stream",
     "text": [
      "✅ Function defined: analyze_single_json()\n"
     ]
    }
   ],
   "execution_count": 3
  },
  {
   "cell_type": "markdown",
   "metadata": {},
   "source": [
    "## Step 4: Display Results Function\n",
    "\n",
    "Create a function to display results in a readable format."
   ]
  },
  {
   "cell_type": "code",
   "metadata": {
    "ExecuteTime": {
     "end_time": "2025-10-07T23:25:37.289884Z",
     "start_time": "2025-10-07T23:25:37.286083Z"
    }
   },
   "source": [
    "def display_results(results):\n",
    "    \"\"\"\n",
    "    Display analysis results in a formatted way.\n",
    "    \n",
    "    Parameters:\n",
    "    -----------\n",
    "    results : dict\n",
    "        Results dictionary from analyze_single_json()\n",
    "    \"\"\"\n",
    "    print(\"=\"*80)\n",
    "    print(f\"Analysis Results for: {results['filename']}\")\n",
    "    print(\"=\"*80)\n",
    "    print(f\"\\n📊 Total Cells Detected: {results['total_cells']:,}\\n\")\n",
    "    \n",
    "    # Cell Counts and Proportions\n",
    "    print(\"─\" * 80)\n",
    "    print(\"Cell Type Distribution\")\n",
    "    print(\"─\" * 80)\n",
    "    print(f\"{'Cell Type':<35} {'Count':>12} {'Proportion':>12} {'Percentage':>10}\")\n",
    "    print(\"─\" * 80)\n",
    "    \n",
    "    for cell_type in sorted(results['cell_counts'].keys()):\n",
    "        count = results['cell_counts'][cell_type]\n",
    "        proportion = results['cell_proportions'][cell_type]\n",
    "        percentage = proportion * 100\n",
    "        type_name = CELL_TYPE_DICT.get(cell_type, f\"Unknown ({cell_type})\")\n",
    "        print(f\"{type_name:<35} {count:>12,} {proportion:>12.4f} {percentage:>9.2f}%\")\n",
    "    \n",
    "    # Overall Type Probability Statistics\n",
    "    print(\"\\n\" + \"─\" * 80)\n",
    "    print(\"Overall Type Probability Statistics\")\n",
    "    print(\"─\" * 80)\n",
    "    stats = results['type_prob_stats_overall']\n",
    "    print(f\"  Minimum:  {stats['min']:.10f}\")\n",
    "    print(f\"  Median:   {stats['median']:.10f}\")\n",
    "    print(f\"  Mean:     {stats['mean']:.10f}\")\n",
    "    print(f\"  Maximum:  {stats['max']:.10f}\")\n",
    "    print(f\"  Std Dev:  {stats['std']:.10f}\")\n",
    "    \n",
    "    # Type Probability Statistics by Cell Type\n",
    "    print(\"\\n\" + \"─\" * 80)\n",
    "    print(\"Type Probability Statistics by Cell Type\")\n",
    "    print(\"─\" * 80)\n",
    "    \n",
    "    for cell_type in sorted(results['type_prob_stats_by_type'].keys()):\n",
    "        type_name = CELL_TYPE_DICT.get(cell_type, f\"Unknown ({cell_type})\")\n",
    "        stats = results['type_prob_stats_by_type'][cell_type]\n",
    "        print(f\"\\n{type_name}:\")\n",
    "        print(f\"  Min: {stats['min']:.6f} | Med: {stats['median']:.6f} | Mean: {stats['mean']:.6f} | Max: {stats['max']:.6f} | Std: {stats['std']:.6f}\")\n",
    "    \n",
    "    print(\"\\n\" + \"=\"*80)\n",
    "\n",
    "print(\"✅ Function defined: display_results()\")"
   ],
   "outputs": [
    {
     "name": "stdout",
     "output_type": "stream",
     "text": [
      "✅ Function defined: display_results()\n"
     ]
    }
   ],
   "execution_count": 5
  },
  {
   "cell_type": "markdown",
   "metadata": {},
   "source": [
    "## Step 5: Visualization Functions"
   ]
  },
  {
   "cell_type": "code",
   "metadata": {
    "ExecuteTime": {
     "end_time": "2025-10-07T23:27:46.183986Z",
     "start_time": "2025-10-07T23:27:46.178354Z"
    }
   },
   "source": [
    "def plot_cell_type_distribution(results):\n",
    "    \"\"\"\n",
    "    Create visualizations for cell type distribution.\n",
    "\n",
    "    Parameters:\n",
    "    -----------\n",
    "    results : dict\n",
    "        Results dictionary from analyze_single_json()\n",
    "    \"\"\"\n",
    "    fig, axes = plt.subplots(1, 2, figsize=(16, 6))\n",
    "    \n",
    "    # Prepare data\n",
    "    cell_types = sorted(results['cell_counts'].keys())\n",
    "    cell_names = [CELL_TYPE_DICT.get(ct, f\"Type {ct}\") for ct in cell_types]\n",
    "    counts = [results['cell_counts'][ct] for ct in cell_types]\n",
    "    colors = [CELL_TYPE_COLORS.get(ct, \"#808080\") for ct in cell_types]\n",
    "    \n",
    "    # Bar plot\n",
    "    bars = axes[0].bar(range(len(cell_types)), counts, color=colors, edgecolor='black', linewidth=1.5)\n",
    "    axes[0].set_xlabel('Cell Type', fontsize=12, fontweight='bold')\n",
    "    axes[0].set_ylabel('Count', fontsize=12, fontweight='bold')\n",
    "    axes[0].set_title(f'Cell Counts by Type\\n{results[\"filename\"]}', fontsize=14, fontweight='bold')\n",
    "    axes[0].set_xticks(range(len(cell_types)))\n",
    "\n",
    "    # Right-align labels with bars - labels end at bar center\n",
    "    axes[0].set_xticklabels(cell_names, rotation=45, ha='right', rotation_mode='anchor')\n",
    "    axes[0].grid(axis='y', alpha=0.3)\n",
    "\n",
    "    # Add count labels on bars\n",
    "    for i, count in enumerate(counts):\n",
    "        axes[0].text(i, count, f'{count:,}', ha='center', va='bottom', fontweight='bold')\n",
    "\n",
    "    # Pie chart with autopct for percentages only on larger slices\n",
    "    def autopct_format(pct):\n",
    "        return f'{pct:.1f}%' if pct > 3 else ''  # Only show percentage if > 3%\n",
    "\n",
    "    # Create pie chart with legend instead of labels for small slices\n",
    "    wedges, texts, autotexts = axes[1].pie(\n",
    "        counts,\n",
    "        labels=None,  # Don't add labels directly to avoid overlap\n",
    "        colors=colors,\n",
    "        autopct=autopct_format,\n",
    "        startangle=90,\n",
    "        textprops={'fontsize': 10, 'weight': 'bold'},\n",
    "        pctdistance=0.85\n",
    "    )\n",
    "\n",
    "    # Create legend with labels and percentages\n",
    "    legend_labels = [f'{name}: {count:,} ({count/sum(counts)*100:.1f}%)'\n",
    "                     for name, count in zip(cell_names, counts)]\n",
    "    axes[1].legend(\n",
    "        wedges,\n",
    "        legend_labels,\n",
    "        title=\"Cell Types\",\n",
    "        loc=\"center left\",\n",
    "        bbox_to_anchor=(1, 0, 0.5, 1),\n",
    "        fontsize=9\n",
    "    )\n",
    "\n",
    "    axes[1].set_title(f'Cell Type Proportions\\n{results[\"filename\"]}', fontsize=14, fontweight='bold')\n",
    "\n",
    "    plt.tight_layout()\n",
    "    plt.show()\n",
    "\n",
    "def plot_type_probability_distribution(results):\n",
    "    \"\"\"\n",
    "    Create bar plot for type probabilities by cell type.\n",
    "\n",
    "    Parameters:\n",
    "    -----------\n",
    "    results : dict\n",
    "        Results dictionary from analyze_single_json()\n",
    "    \"\"\"\n",
    "    fig, ax = plt.subplots(figsize=(14, 6))\n",
    "\n",
    "    cell_types = sorted(results['type_prob_stats_by_type'].keys())\n",
    "    cell_names = [CELL_TYPE_DICT.get(ct, f\"Type {ct}\") for ct in cell_types]\n",
    "\n",
    "    # Create bar plot for mean values with error bars\n",
    "    means = [results['type_prob_stats_by_type'][ct]['mean'] for ct in cell_types]\n",
    "    stds = [results['type_prob_stats_by_type'][ct]['std'] for ct in cell_types]\n",
    "    colors_list = [CELL_TYPE_COLORS.get(ct, \"#808080\") for ct in cell_types]\n",
    "\n",
    "    bars = ax.bar(range(len(cell_types)), means, yerr=stds, color=colors_list,\n",
    "                   edgecolor='black', linewidth=1.5, capsize=5, alpha=0.8)\n",
    "\n",
    "    ax.set_xlabel('Cell Type', fontsize=12, fontweight='bold')\n",
    "    ax.set_ylabel('Type Probability', fontsize=12, fontweight='bold')\n",
    "    ax.set_title(f'Type Probability by Cell Type (Mean ± Std Dev)\\n{results[\"filename\"]}',\n",
    "                 fontsize=14, fontweight='bold')\n",
    "    ax.set_xticks(range(len(cell_types)))\n",
    "\n",
    "    # Right-align labels with bars - labels end at bar center\n",
    "    ax.set_xticklabels(cell_names, rotation=45, ha='right', rotation_mode='anchor')\n",
    "    ax.set_ylim(0, 1.05)\n",
    "    ax.grid(axis='y', alpha=0.3)\n",
    "    \n",
    "    # Add value labels\n",
    "    for i, (mean, std) in enumerate(zip(means, stds)):\n",
    "        ax.text(i, mean + std + 0.02, f'{mean:.3f}', ha='center', va='bottom', \n",
    "                fontweight='bold', fontsize=9)\n",
    "    \n",
    "    plt.tight_layout()\n",
    "    plt.show()\n",
    "\n",
    "print(\"✅ Visualization functions defined\")"
   ],
   "outputs": [
    {
     "name": "stdout",
     "output_type": "stream",
     "text": [
      "✅ Visualization functions defined\n"
     ]
    }
   ],
   "execution_count": 11
  },
  {
   "metadata": {},
   "cell_type": "markdown",
   "source": "## Step 6: Define Confidence Threshold Filter"
  },
  {
   "metadata": {
    "ExecuteTime": {
     "end_time": "2025-10-07T23:28:20.850348Z",
     "start_time": "2025-10-07T23:28:20.845822Z"
    }
   },
   "cell_type": "code",
   "source": [
    "def apply_confidence_filter(json_path, threshold=0.5):\n",
    "    \"\"\"\n",
    "    Apply confidence threshold filter to reclassify low-confidence predictions.\n",
    "\n",
    "    Parameters:\n",
    "    -----------\n",
    "    json_path : str or Path\n",
    "        Path to the JSON file\n",
    "    threshold : float\n",
    "        Minimum type probability threshold (default: 0.5)\n",
    "\n",
    "    Returns:\n",
    "    --------\n",
    "    dict : Filtered analysis results\n",
    "    \"\"\"\n",
    "    # Read JSON file\n",
    "    with open(json_path, 'r') as f:\n",
    "        data = json.load(f)\n",
    "\n",
    "    # Extract nucleus data\n",
    "    nuclei = data.get('nuc', {})\n",
    "\n",
    "    if not nuclei:\n",
    "        return {\n",
    "            'filename': Path(json_path).name,\n",
    "            'threshold': threshold,\n",
    "            'total_cells': 0,\n",
    "            'reclassified_count': 0,\n",
    "            'cell_counts': {},\n",
    "            'cell_proportions': {},\n",
    "            'type_prob_stats_overall': {},\n",
    "            'type_prob_stats_by_type': {}\n",
    "        }\n",
    "\n",
    "    # Initialize storage\n",
    "    original_types = []\n",
    "    filtered_types = []\n",
    "    type_probs = []\n",
    "    type_probs_by_type = defaultdict(list)\n",
    "    reclassified_count = 0\n",
    "\n",
    "    # Apply filter and extract data\n",
    "    for nucleus_id, nucleus_data in nuclei.items():\n",
    "        original_type = nucleus_data.get('type', 0)\n",
    "        type_prob = nucleus_data.get('type_prob', 0)\n",
    "\n",
    "        original_types.append(original_type)\n",
    "\n",
    "        # Apply filter: reclassify to Undefined (0) if below threshold\n",
    "        if type_prob < threshold and original_type != 0:\n",
    "            filtered_type = 0  # Reclassify as Undefined\n",
    "            reclassified_count += 1\n",
    "        else:\n",
    "            filtered_type = original_type\n",
    "\n",
    "        filtered_types.append(filtered_type)\n",
    "        type_probs.append(type_prob)\n",
    "        type_probs_by_type[filtered_type].append(type_prob)\n",
    "\n",
    "    # Count cells by filtered type\n",
    "    cell_counts = Counter(filtered_types)\n",
    "    total_cells = len(filtered_types)\n",
    "\n",
    "    # Calculate proportions\n",
    "    cell_proportions = {}\n",
    "    for cell_type, count in cell_counts.items():\n",
    "        cell_proportions[cell_type] = count / total_cells\n",
    "\n",
    "    # Calculate type probability statistics (overall)\n",
    "    type_prob_stats_overall = {\n",
    "        'min': np.min(type_probs) if type_probs else 0,\n",
    "        'median': np.median(type_probs) if type_probs else 0,\n",
    "        'mean': np.mean(type_probs) if type_probs else 0,\n",
    "        'max': np.max(type_probs) if type_probs else 0,\n",
    "        'std': np.std(type_probs) if type_probs else 0\n",
    "    }\n",
    "\n",
    "    # Calculate type probability statistics by cell type\n",
    "    type_prob_stats_by_type = {}\n",
    "    for cell_type, probs in type_probs_by_type.items():\n",
    "        type_prob_stats_by_type[cell_type] = {\n",
    "            'min': np.min(probs),\n",
    "            'median': np.median(probs),\n",
    "            'mean': np.mean(probs),\n",
    "            'max': np.max(probs),\n",
    "            'std': np.std(probs)\n",
    "        }\n",
    "\n",
    "    return {\n",
    "        'filename': Path(json_path).name,\n",
    "        'threshold': threshold,\n",
    "        'total_cells': total_cells,\n",
    "        'reclassified_count': reclassified_count,\n",
    "        'cell_counts': dict(cell_counts),\n",
    "        'cell_proportions': cell_proportions,\n",
    "        'type_prob_stats_overall': type_prob_stats_overall,\n",
    "        'type_prob_stats_by_type': type_prob_stats_by_type,\n",
    "        'original_cell_counts': dict(Counter(original_types))\n",
    "    }\n",
    "print(\"✅ Define Confidence Threshold Filter functions defined\")"
   ],
   "outputs": [
    {
     "name": "stdout",
     "output_type": "stream",
     "text": [
      "✅ Define Confidence Threshold Filter functions defined\n"
     ]
    }
   ],
   "execution_count": 14
  }
 ],
 "metadata": {
  "kernelspec": {
   "display_name": "Python 3",
   "language": "python",
   "name": "python3"
  },
  "language_info": {
   "codemirror_mode": {
    "name": "ipython",
    "version": 3
   },
   "file_extension": ".py",
   "mimetype": "text/x-python",
   "name": "python",
   "nbconvert_exporter": "python",
   "pygments_lexer": "ipython3",
   "version": "3.8.0"
  }
 },
 "nbformat": 4,
 "nbformat_minor": 4
}
